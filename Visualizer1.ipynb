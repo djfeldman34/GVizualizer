{
 "cells": [
  {
   "cell_type": "code",
   "execution_count": 45,
   "metadata": {},
   "outputs": [],
   "source": [
    "from splinter import Browser\n",
    "import time"
   ]
  },
  {
   "cell_type": "code",
   "execution_count": 68,
   "metadata": {},
   "outputs": [],
   "source": [
    "with Browser('firefox') as browser:\n",
    "    # Visit URL\n",
    "    url = \"https://trends.google.com/trends/trendingsearches/daily/rss?geo=US\"\n",
    "    browser.visit(url)\n",
    "    titleLength = 10\n",
    "#     title1 = browser.find_by_tag('title')[1]\n",
    "    titleList = []\n",
    "    searchList = []\n",
    "    for x in range(titleLength):\n",
    "        new1 = browser.find_by_tag('title')[x+1]\n",
    "        new2 = browser.find_by_tag('approx_traffic')[x]\n",
    "        titleList.append(new1.text)\n",
    "        searchList.append(new2.text)\n",
    "    #Find and click the 'search' button\n",
    "#     button = browser.find_by_name('btnK')\n",
    "#     time.sleep(1)\n",
    "#     # Interact with elements\n",
    "#     button.click()\n",
    "#     time.sleep(1)\n",
    "    "
   ]
  },
  {
   "cell_type": "code",
   "execution_count": 69,
   "metadata": {},
   "outputs": [
    {
     "name": "stdout",
     "output_type": "stream",
     "text": [
      "['Tua Tagovailoa', 'Snake', 'Prodigy', 'Greta Thunberg', 'CES 2020', 'Drive', 'Harvey Weinstein', 'Puerto Rico earthquake', 'Epic', 'Puerto Rico']\n",
      "['100,000+', '100,000+', '100,000+', '50,000+', '50,000+', '50,000+', '50,000+', '50,000+', '50,000+', '50,000+']\n"
     ]
    }
   ],
   "source": [
    "print(titleList)\n",
    "print(searchList)"
   ]
  },
  {
   "cell_type": "code",
   "execution_count": 67,
   "metadata": {},
   "outputs": [
    {
     "name": "stdout",
     "output_type": "stream",
     "text": [
      "<built-in method title of str object at 0x00000294FD457500>\n"
     ]
    }
   ],
   "source": [
    "print(searchList[0].title)"
   ]
  },
  {
   "cell_type": "code",
   "execution_count": null,
   "metadata": {},
   "outputs": [],
   "source": []
  }
 ],
 "metadata": {
  "kernelspec": {
   "display_name": "Python 36 (PythonData)",
   "language": "python",
   "name": "pythondata"
  },
  "language_info": {
   "codemirror_mode": {
    "name": "ipython",
    "version": 3
   },
   "file_extension": ".py",
   "mimetype": "text/x-python",
   "name": "python",
   "nbconvert_exporter": "python",
   "pygments_lexer": "ipython3",
   "version": "3.6.8"
  }
 },
 "nbformat": 4,
 "nbformat_minor": 4
}
